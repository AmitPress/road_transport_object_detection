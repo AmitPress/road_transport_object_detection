{
 "cells": [
  {
   "cell_type": "code",
   "execution_count": 1,
   "metadata": {},
   "outputs": [],
   "source": [
    "# import necessary utility modules\n",
    "import os\n",
    "from pathlib import Path\n",
    "import shutil\n",
    "import random\n",
    "random.seed(69)"
   ]
  },
  {
   "cell_type": "code",
   "execution_count": 17,
   "metadata": {},
   "outputs": [
    {
     "name": "stdout",
     "output_type": "stream",
     "text": [
      "[1, 2, 7, 8, 9]\n"
     ]
    }
   ],
   "source": [
    "# create helpers\n"
   ]
  },
  {
   "cell_type": "code",
   "execution_count": 23,
   "metadata": {},
   "outputs": [
    {
     "name": "stdout",
     "output_type": "stream",
     "text": [
      "barricade\n",
      "Dest klass path Created\n",
      "cctv\n",
      "Dest klass path Created\n",
      "four_wheeler\n",
      "Dest klass path Created\n",
      "pedestrian\n",
      "Dest klass path Created\n",
      "stray_dog\n",
      "Dest klass path Created\n",
      "traffic_lights\n",
      "Dest klass path Created\n",
      "traffic_police\n",
      "Dest klass path Created\n",
      "traffic_sign\n",
      "Dest klass path Created\n",
      "two_wheeler\n",
      "Dest klass path Created\n",
      "zebra_crossing\n",
      "Dest klass path Created\n"
     ]
    }
   ],
   "source": [
    "# sample the dataset for 15 images in each class\n",
    "\n",
    "def make_sample_ds(raw_dataset_name: str = None, sample_dir_name: str = None):\n",
    "    pwd = Path(os.getcwd())\n",
    "    if not sample_dir_name and not raw_dataset_name:\n",
    "        print(\"Fill The Argument\")\n",
    "    if not os.path.exists(path = pwd / sample_dir_name):\n",
    "        os.mkdir(pwd / sample_dir_name)\n",
    "        print(\"Dest path Created\")\n",
    "\n",
    "    src_path = pwd / raw_dataset_name\n",
    "    dest_path = pwd / sample_dir_name\n",
    "    for klass in os.listdir(src_path):\n",
    "        print(klass)\n",
    "        randomized_images = random.sample(os.listdir(src_path / klass), 15)\n",
    "        if not os.path.exists(path = dest_path / klass):\n",
    "            os.mkdir(dest_path / klass)\n",
    "            print(\"Dest klass path Created\")\n",
    "        for i, image in enumerate(randomized_images):\n",
    "            shutil.copy(src_path / klass / image, dest_path / klass / f\"{i+1}.jpg\")\n",
    "\n",
    "\n",
    "make_sample_ds(\"road_transport_dataset\", \"rtds\")"
   ]
  },
  {
   "cell_type": "code",
   "execution_count": 12,
   "metadata": {},
   "outputs": [],
   "source": [
    "def rename_files_by_subdirectory(main_dir):\n",
    "    main_dir_path = Path(main_dir)\n",
    "    for subdir in os.listdir(main_dir_path):\n",
    "        for file in os.listdir(main_dir/Path(subdir)):\n",
    "            file_path = main_dir/Path(subdir)/Path(file)\n",
    "            file = subdir+ \"_\" + file\n",
    "            rename_path = main_dir/Path(subdir)/Path(file)\n",
    "            os.rename(file_path, rename_path)\n",
    "\n",
    "rename_files_by_subdirectory(\"./rtds_yolo\") # put one after one: rtds rtds_voc rtds_yolo... to rename them correctly and replace os.rename with print to check"
   ]
  },
  {
   "cell_type": "code",
   "execution_count": 19,
   "metadata": {},
   "outputs": [],
   "source": [
    "def helper_copy(dataset, nested_folder, src, dest):\n",
    "    for file in dataset:\n",
    "        file_path = src/Path(nested_folder)/Path(file)\n",
    "        shutil.copyfile(file_path, dest/Path(file))\n",
    "\n",
    "def copy_nested_files(root_folder, dest, setup):\n",
    "    root_folder_path = Path(root_folder)\n",
    "    train, val, test = 9, 12, 15\n",
    "    dest_train = Path(dest)/Path(\"train\")\n",
    "    dest_val = Path(dest)/Path(\"val\")\n",
    "    dest_test = Path(dest)/Path(\"test\")\n",
    "\n",
    "    # for images\n",
    "    dest_train_images_folder = dest_train/Path(\"images\")\n",
    "    dest_val_images_folder = dest_val/Path(\"images\")\n",
    "    dest_test_images_folder = dest_test/Path(\"images\")\n",
    "    # for labels\n",
    "    dest_train_labels_folder = dest_train/Path(\"labels\")\n",
    "    dest_val_labels_folder = dest_val/Path(\"labels\")\n",
    "    dest_test_labels_folder = dest_test/Path(\"labels\")\n",
    "\n",
    "    # create required folders\n",
    "    os.mkdir(dest_train) if not os.path.exists(dest_train) else None\n",
    "    os.mkdir(dest_val) if not os.path.exists(dest_val) else None\n",
    "    os.mkdir(dest_test) if not os.path.exists(dest_test) else None\n",
    "    # for images\n",
    "    os.mkdir(dest_train_images_folder) if not os.path.exists(dest_train_images_folder) else None\n",
    "    os.mkdir(dest_val_images_folder) if not os.path.exists(dest_val_images_folder) else None\n",
    "    os.mkdir(dest_test_images_folder) if not os.path.exists(dest_test_images_folder) else None\n",
    "    #for labels\n",
    "    os.mkdir(dest_train_labels_folder) if not os.path.exists(dest_train_labels_folder) else None\n",
    "    os.mkdir(dest_val_labels_folder) if not os.path.exists(dest_val_labels_folder) else None\n",
    "    os.mkdir(dest_test_labels_folder) if not os.path.exists(dest_test_labels_folder) else None\n",
    "    for nested_folder in os.listdir(root_folder_path):\n",
    "        dataset = os.listdir(root_folder_path/Path(nested_folder))\n",
    "        train_ds = dataset[0:train]\n",
    "        val_ds   = dataset[train:val]\n",
    "        test_ds  = dataset[val:test]\n",
    "        match setup:\n",
    "            case \"images\":\n",
    "                #copy to images\n",
    "                helper_copy(dataset=train_ds, nested_folder=nested_folder, src=root_folder_path, dest=dest_train_images_folder)\n",
    "                helper_copy(dataset=val_ds, nested_folder=nested_folder, src=root_folder_path, dest=dest_val_images_folder)\n",
    "                helper_copy(dataset=test_ds, nested_folder=nested_folder, src=root_folder_path, dest=dest_test_images_folder)\n",
    "            case \"labels\":\n",
    "                # copy to labes\n",
    "                helper_copy(dataset=train_ds, nested_folder=nested_folder, src=root_folder_path, dest=dest_train_labels_folder)\n",
    "                helper_copy(dataset=val_ds, nested_folder=nested_folder, src=root_folder_path, dest=dest_val_labels_folder)\n",
    "                helper_copy(dataset=test_ds, nested_folder=nested_folder, src=root_folder_path, dest=dest_test_labels_folder)\n",
    "\n",
    "copy_nested_files(\"rtds_yolo\", \"road_transport_dataset_yolo\", \"labels\")"
   ]
  },
  {
   "cell_type": "code",
   "execution_count": 24,
   "metadata": {},
   "outputs": [],
   "source": [
    "def remove_word(path, word):\n",
    "    for file in os.listdir(path):\n",
    "        os.rename(path/Path(file),path/Path(file.replace(\"_yolo_\", \"_\")))\n",
    "def remove_unnecessary(root):\n",
    "    root_path = Path(root)\n",
    "    train_labels = root_path / Path(\"train\") / Path(\"labels\")\n",
    "    val_labels = root_path / Path(\"val\") / Path(\"labels\")\n",
    "    test_labels = root_path / Path(\"test\") / Path(\"labels\")\n",
    "    remove_word(train_labels, \"yolo\")\n",
    "    remove_word(val_labels, \"yolo\")\n",
    "    remove_word(test_labels, \"yolo\")\n",
    "\n",
    "remove_unnecessary(\"road_transport_dataset_yolo\")\n",
    "    "
   ]
  },
  {
   "cell_type": "code",
   "execution_count": 26,
   "metadata": {},
   "outputs": [
    {
     "name": "stdout",
     "output_type": "stream",
     "text": [
      "barricade\n",
      "cctv\n",
      "four_wheeler\n",
      "pedestrian\n",
      "stray_dog\n",
      "traffic_light\n",
      "traffic_police\n",
      "traffic_sign\n",
      "two_wheeler\n",
      "zebra_crossing\n"
     ]
    }
   ],
   "source": [
    "for n in os.listdir(\"rtds\"):\n",
    "    print(n)"
   ]
  }
 ],
 "metadata": {
  "kernelspec": {
   "display_name": "base",
   "language": "python",
   "name": "python3"
  },
  "language_info": {
   "codemirror_mode": {
    "name": "ipython",
    "version": 3
   },
   "file_extension": ".py",
   "mimetype": "text/x-python",
   "name": "python",
   "nbconvert_exporter": "python",
   "pygments_lexer": "ipython3",
   "version": "3.12.3"
  }
 },
 "nbformat": 4,
 "nbformat_minor": 2
}
